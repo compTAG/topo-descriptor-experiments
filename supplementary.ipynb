{
 "cells": [
  {
   "cell_type": "markdown",
   "metadata": {},
   "source": [
    "# Too Many or Too Few\n",
    "### Sampling Bounds for Topological Descriptors\n",
    "\n",
    "#### Authors\n",
    "\n",
    "#### Link to paper\n",
    "\n",
    "This [Jupyter](https://jupyter.org/) notebook is an electronic supplementry material of the article.\n"
   ]
  },
  {
   "cell_type": "markdown",
   "metadata": {},
   "source": [
    "## Preprocessing\n",
    "#### The following code will download the MPEG7/EMNIST data and create and store the data in the appropriate folders. \n",
    "You can find the MPEG7 data at: http://www.dabi.temple.edu/~shape/MPEG7\n",
    "    \n",
    "You can find the EMNIST data at: https://www.nist.gov/itl/products-and-services/emnist-dataset"
   ]
  },
  {
   "cell_type": "code",
   "execution_count": null,
   "metadata": {},
   "outputs": [],
   "source": [
    "from get_data import *\n",
    "\n",
    "preprocess_data(dir_list)"
   ]
  },
  {
   "cell_type": "markdown",
   "metadata": {},
   "source": [
    "#### The following code will create the graphs for RANDPTS."
   ]
  },
  {
   "cell_type": "code",
   "execution_count": null,
   "metadata": {},
   "outputs": [],
   "source": [
    "from build_graphs import *\n",
    "randpts_graphs()"
   ]
  },
  {
   "cell_type": "markdown",
   "metadata": {},
   "source": [
    "#### The following code will create the graphs for MPEG7 data. "
   ]
  },
  {
   "cell_type": "code",
   "execution_count": null,
   "metadata": {},
   "outputs": [],
   "source": [
    "from build_graphs import *\n",
    "\n",
    "#Change eps according to how close we want the approx\n",
    "eps = .001\n",
    "\n",
    "#Change to corresponding eps \n",
    "graphs_dir = \"graphs_001_approx\" \n",
    "\n",
    "mpeg7_graphs(eps, graphs_dir)"
   ]
  },
  {
   "cell_type": "markdown",
   "metadata": {},
   "source": [
    "#### The following code will create the graphs for EMNIST data. "
   ]
  },
  {
   "cell_type": "code",
   "execution_count": null,
   "metadata": {},
   "outputs": [],
   "source": [
    "from build_graphs import *\n",
    "\n",
    "#Change eps according to how close we want the approx\n",
    "eps = .001\n",
    "\n",
    "#Change to corresponding eps \n",
    "graphs_dir = \"graphs_001_approx\" \n",
    "\n",
    "mnist_graphs(eps, graphs_dir)"
   ]
  },
  {
   "cell_type": "markdown",
   "metadata": {},
   "source": [
    "## Running experiments\n",
    "Once the graphs are created, the following code we will run each of the experiments for RANDPTS, MPEG7, and MNIST data sets.\n",
    "\n",
    "Note that you can change graphs_dir and out_graphs_dir for which boundary you would like.\n",
    "You can also choose to run this experiment for all datasets or just a particular dataset by specifying data_type."
   ]
  },
  {
   "cell_type": "markdown",
   "metadata": {},
   "source": [
    "### Smallest Stratum Experiment\n",
    "NOTE: This experiement is Section 4.2 from the paper"
   ]
  },
  {
   "cell_type": "code",
   "execution_count": null,
   "metadata": {},
   "outputs": [],
   "source": [
    "from main import *\n",
    "\n",
    "# modify for that approximation type for emnist and mpeg7\n",
    "# choices include graphs_001_approx and graphs_005_approx\n",
    "graphs_dir = \"graphs_001_approx\"\n",
    "# same as above but specifies where to write results\n",
    "out_graphs_dir = \"output_001_approx\"\n",
    "\n",
    "# main function for setting up and executing experiments\n",
    "if __name__ == \"__main__\":\n",
    "  start = time.time()\n",
    "  # Set for random experiments only\n",
    "  random.seed(423652346)\n",
    "  np.random.seed(423652346)\n",
    "\n",
    "  #### exp type is:\n",
    "  #       1 for stratification experiment (distribution_exp)\n",
    "  #       2 for random sample experiment (sample_exp)\n",
    "  #       3 for smallest angle experiment (smallest_angle_exp)\n",
    "  #       4 for a uniform random sample experiment (uniform_sample_exp)\n",
    "  #       5 for all four exps\n",
    "  exp_type = 3\n",
    "  #### data is:\n",
    "  #       1 for random\n",
    "  #       2 for MPEG7 (classes from PHT paper - Turner et al.)\n",
    "  #       3 for EMNIST\n",
    "  #       4 for all three\n",
    "  #       5 for test\n",
    "  data_type = 4\n",
    "\n",
    "  exp_list = get_exp_graphs(4,graphs_dir,out_graphs_dir)\n",
    "\n",
    "  counter = 1\n",
    "  for e in exp_list:\n",
    "    print(\"Graph \"+str(counter)+\" of \"+str(len(exp_list)))\n",
    "    exp(e[\"G\"], e[\"output_file\"], 3, out_graphs_dir)\n",
    "    counter+=1\n",
    "\n",
    "  print(\"Execution time: \"+str(time.time() - start)+\"(s)\")"
   ]
  },
  {
   "cell_type": "markdown",
   "metadata": {},
   "source": [
    "# Prepare Experiment files for PDF representation"
   ]
  },
  {
   "cell_type": "code",
   "execution_count": null,
   "metadata": {},
   "outputs": [],
   "source": [
    "from combine_data import *\n",
    "\n",
    "#Combines experiment files for each approximation \n",
    "mpeg7_mnist(\"mpeg7\",\"smalles_angle_exp\", \"001\")\n",
    "mpeg7_mnist(\"mnist\",\"smalles_angle_exp\", \"001\")\n",
    "\n",
    "random(\"005\", \"smalles_angle_exp\")\n",
    "mpeg7_mnist(\"mpeg7\",\"smalles_angle_exp\", \"005\")\n",
    "mpeg7_mnist(\"mnist\",\"smalles_angle_exp\", \"005\")"
   ]
  },
  {
   "cell_type": "markdown",
   "metadata": {},
   "source": [
    "# Figures"
   ]
  },
  {
   "cell_type": "markdown",
   "metadata": {},
   "source": [
    "### Uniform Random Sample Experiment\n",
    "NOTE: This experiement is Section 4.3 from the paper"
   ]
  },
  {
   "cell_type": "code",
   "execution_count": null,
   "metadata": {},
   "outputs": [],
   "source": [
    "from main import *\n",
    "# modify for that approximation type for emnist and mpeg7\n",
    "# choices include graphs_001_approx and graphs_005_approx\n",
    "graphs_dir = \"graphs_005_approx\"\n",
    "# same as above but specifies where to write results\n",
    "out_graphs_dir = \"output_005_approx\"\n",
    "\n",
    "# main function for setting up and executing experiments\n",
    "if __name__ == \"__main__\":\n",
    "  start = time.time()\n",
    "  # Set for random experiments only\n",
    "  random.seed(423652346)\n",
    "  np.random.seed(423652346)\n",
    "\n",
    "  #### exp type is:\n",
    "  #       1 for stratification experiment (distribution_exp)\n",
    "  #       2 for random sample experiment (sample_exp)\n",
    "  #       3 for smallest angle experiment (smallest_angle_exp)\n",
    "  #       4 for a uniform random sample experiment (uniform_sample_exp)\n",
    "  #       5 for all four exps\n",
    "  exp_type = 4\n",
    "  #### data is:\n",
    "  #       1 for random\n",
    "  #       2 for MPEG7 (classes from PHT paper - Turner et al.)\n",
    "  #       3 for EMNIST\n",
    "  #       4 for all three\n",
    "  #       5 for test\n",
    "  data_type = 4\n",
    "\n",
    "  exp_list = get_exp_graphs(4)\n",
    "\n",
    "  counter = 1\n",
    "  for e in exp_list:\n",
    "    print(\"Graph \"+str(counter)+\" of \"+str(len(exp_list)))\n",
    "    exp(e[\"G\"], e[\"output_file\"], 4)\n",
    "    counter+=1\n",
    "\n",
    "  print(\"Execution time: \"+str(time.time() - start)+\"(s)\")"
   ]
  },
  {
   "cell_type": "markdown",
   "metadata": {},
   "source": [
    "# Prepare Experiment files for PDF representation"
   ]
  },
  {
   "cell_type": "code",
   "execution_count": null,
   "metadata": {},
   "outputs": [],
   "source": [
    "from combine_data import *\n",
    "\n",
    "#Combines experiment files for each approximation \n",
    "mpeg7_mnist(\"mpeg7\",\"uniform_sample_exp\", \"001\")\n",
    "mpeg7_mnist(\"mnist\",\"uniform_sample_exp\", \"001\")\n",
    "\n",
    "random(\"005\", \"uniform_sample_exp\")\n",
    "mpeg7_mnist(\"mpeg7\", \"uniform_sample_exp\", \"005\")\n",
    "mpeg7_mnist(\"mnist\", \"uniform_sample_exp\", \"005\")"
   ]
  },
  {
   "cell_type": "markdown",
   "metadata": {},
   "source": [
    "## Figures"
   ]
  }
 ],
 "metadata": {
  "kernelspec": {
   "display_name": "Python 2",
   "language": "python",
   "name": "python2"
  },
  "language_info": {
   "codemirror_mode": {
    "name": "ipython",
    "version": 2
   },
   "file_extension": ".py",
   "mimetype": "text/x-python",
   "name": "python",
   "nbconvert_exporter": "python",
   "pygments_lexer": "ipython2",
   "version": "2.7.18"
  }
 },
 "nbformat": 4,
 "nbformat_minor": 2
}
