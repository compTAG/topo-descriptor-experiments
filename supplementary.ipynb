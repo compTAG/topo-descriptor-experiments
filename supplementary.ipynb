{
 "cells": [
  {
   "cell_type": "markdown",
   "metadata": {},
   "source": [
    "# Too Many or Too Few\n",
    "### Sampling Bounds for Topological Descriptors\n",
    "This [IPython](http://ipython.org/) notebook is an electronic supplementry material of the article.\n"
   ]
  },
  {
   "cell_type": "markdown",
   "metadata": {},
   "source": [
    "## Preprocessing\n",
    "#### The following code will download the MPEG7 and EMNIST data and will create and store the data in the appropriate folders. \n",
    "You can find the MPEG7 data at: http://www.dabi.temple.edu/~shape/MPEG7\n",
    "    \n",
    "You can find the EMNIST data at: https://www.nist.gov/itl/products-and-services/emnist-dataset"
   ]
  },
  {
   "cell_type": "code",
   "execution_count": null,
   "metadata": {},
   "outputs": [],
   "source": [
    "from get_data import *\n",
    "\n",
    "preprocess_data(dir_list)"
   ]
  },
  {
   "cell_type": "markdown",
   "metadata": {},
   "source": [
    "#### The following code will create the graphs for RANDPTS, MPEG7, and EMNIST for .005 boundary."
   ]
  },
  {
   "cell_type": "code",
   "execution_count": null,
   "metadata": {},
   "outputs": [],
   "source": [
    "from generate_graphs import *\n",
    "eps = .005\n",
    "graphs_dir = \"graphs_005_approx\" \n",
    "main()"
   ]
  },
  {
   "cell_type": "markdown",
   "metadata": {},
   "source": [
    "#### The following code will create the graphs for RANDPTS, MPEG7, and EMNIST for .001 boundary."
   ]
  },
  {
   "cell_type": "code",
   "execution_count": null,
   "metadata": {},
   "outputs": [],
   "source": [
    "from generate_graphs import *\n",
    "eps = .001\n",
    "graphs_dir = \"graphs_001_approx\" \n",
    "main()"
   ]
  },
  {
   "cell_type": "markdown",
   "metadata": {},
   "source": [
    "## Running experiments\n",
    "Once the graphs are created we can choose which experiment we would like to run. \n",
    "Note that you can change graphs_dir and out_graphs_dir for which boundary you would like.\n",
    "You can also choose to run this experiment for all datasets or just a particular dataset by specifying data_type."
   ]
  },
  {
   "cell_type": "markdown",
   "metadata": {},
   "source": [
    "### Smallest Stratum Experiment"
   ]
  },
  {
   "cell_type": "code",
   "execution_count": null,
   "metadata": {},
   "outputs": [],
   "source": [
    "from main import *\n",
    "# modify for that approximation type for emnist and mpeg7\n",
    "# choices include graphs_001_approx and graphs_005_approx\n",
    "graphs_dir = \"graphs_005_approx\"\n",
    "# same as above but specifies where to write results\n",
    "out_graphs_dir = \"output_005_approx\"\n",
    "\n",
    "# main function for setting up and executing experiments\n",
    "if __name__ == \"__main__\":\n",
    "  start = time.time()\n",
    "  # Set for random experiments only\n",
    "  random.seed(423652346)\n",
    "  np.random.seed(423652346)\n",
    "\n",
    "  #### exp type is:\n",
    "  #       1 for stratification experiment (distribution_exp)\n",
    "  #       2 for random sample experiment (sample_exp)\n",
    "  #       3 for smallest angle experiment (smallest_angle_exp)\n",
    "  #       4 for a uniform random sample experiment (uniform_sample_exp)\n",
    "  #       5 for all four exps\n",
    "  exp_type = 3\n",
    "  #### data is:\n",
    "  #       1 for random\n",
    "  #       2 for MPEG7 (classes from PHT paper - Turner et al.)\n",
    "  #       3 for EMNIST\n",
    "  #       4 for all three\n",
    "  #       5 for test\n",
    "  data_type = 2\n",
    "\n",
    "  exp_list = get_exp_graphs(data_type)\n",
    "\n",
    "  counter = 1\n",
    "  for e in exp_list:\n",
    "    print(\"Graph \"+str(counter)+\" of \"+str(len(exp_list)))\n",
    "    exp(e[\"G\"], e[\"output_file\"], exp_type)\n",
    "    counter+=1\n",
    "\n",
    "  print(\"Execution time: \"+str(time.time() - start)+\"(s)\")"
   ]
  },
  {
   "cell_type": "markdown",
   "metadata": {},
   "source": [
    "### Stratification Experiment"
   ]
  },
  {
   "cell_type": "code",
   "execution_count": null,
   "metadata": {},
   "outputs": [],
   "source": [
    "from main import *\n",
    "# modify for that approximation type for emnist and mpeg7\n",
    "# choices include graphs_001_approx and graphs_005_approx\n",
    "graphs_dir = \"graphs_005_approx\"\n",
    "# same as above but specifies where to write results\n",
    "out_graphs_dir = \"output_005_approx\"\n",
    "\n",
    "# main function for setting up and executing experiments\n",
    "if __name__ == \"__main__\":\n",
    "  start = time.time()\n",
    "  # Set for random experiments only\n",
    "  random.seed(423652346)\n",
    "  np.random.seed(423652346)\n",
    "\n",
    "  #### exp type is:\n",
    "  #       1 for stratification experiment (distribution_exp)\n",
    "  #       2 for random sample experiment (sample_exp)\n",
    "  #       3 for smallest angle experiment (smallest_angle_exp)\n",
    "  #       4 for a uniform random sample experiment (uniform_sample_exp)\n",
    "  #       5 for all four exps\n",
    "  exp_type = 1\n",
    "  #### data is:\n",
    "  #       1 for random\n",
    "  #       2 for MPEG7 (classes from PHT paper - Turner et al.)\n",
    "  #       3 for EMNIST\n",
    "  #       4 for all three\n",
    "  #       5 for test\n",
    "  data_type = 2\n",
    "\n",
    "  exp_list = get_exp_graphs(data_type)\n",
    "\n",
    "  counter = 1\n",
    "  for e in exp_list:\n",
    "    print(\"Graph \"+str(counter)+\" of \"+str(len(exp_list)))\n",
    "    exp(e[\"G\"], e[\"output_file\"], exp_type)\n",
    "    counter+=1\n",
    "\n",
    "  print(\"Execution time: \"+str(time.time() - start)+\"(s)\")"
   ]
  },
  {
   "cell_type": "markdown",
   "metadata": {},
   "source": [
    "### Random Sample Experiment"
   ]
  },
  {
   "cell_type": "code",
   "execution_count": null,
   "metadata": {},
   "outputs": [],
   "source": [
    "from main import *\n",
    "# modify for that approximation type for emnist and mpeg7\n",
    "# choices include graphs_001_approx and graphs_005_approx\n",
    "graphs_dir = \"graphs_005_approx\"\n",
    "# same as above but specifies where to write results\n",
    "out_graphs_dir = \"output_005_approx\"\n",
    "\n",
    "# main function for setting up and executing experiments\n",
    "if __name__ == \"__main__\":\n",
    "  start = time.time()\n",
    "  # Set for random experiments only\n",
    "  random.seed(423652346)\n",
    "  np.random.seed(423652346)\n",
    "\n",
    "  #### exp type is:\n",
    "  #       1 for stratification experiment (distribution_exp)\n",
    "  #       2 for random sample experiment (sample_exp)\n",
    "  #       3 for smallest angle experiment (smallest_angle_exp)\n",
    "  #       4 for a uniform random sample experiment (uniform_sample_exp)\n",
    "  #       5 for all four exps\n",
    "  exp_type = 2\n",
    "  #### data is:\n",
    "  #       1 for random\n",
    "  #       2 for MPEG7 (classes from PHT paper - Turner et al.)\n",
    "  #       3 for EMNIST\n",
    "  #       4 for all three\n",
    "  #       5 for test\n",
    "  data_type = 2\n",
    "\n",
    "  exp_list = get_exp_graphs(data_type)\n",
    "\n",
    "  counter = 1\n",
    "  for e in exp_list:\n",
    "    print(\"Graph \"+str(counter)+\" of \"+str(len(exp_list)))\n",
    "    exp(e[\"G\"], e[\"output_file\"], exp_type)\n",
    "    counter+=1\n",
    "\n",
    "  print(\"Execution time: \"+str(time.time() - start)+\"(s)\")"
   ]
  },
  {
   "cell_type": "markdown",
   "metadata": {},
   "source": [
    "### Uniform Random Sample Experiment"
   ]
  },
  {
   "cell_type": "code",
   "execution_count": null,
   "metadata": {},
   "outputs": [],
   "source": [
    "from main import *\n",
    "# modify for that approximation type for emnist and mpeg7\n",
    "# choices include graphs_001_approx and graphs_005_approx\n",
    "graphs_dir = \"graphs_005_approx\"\n",
    "# same as above but specifies where to write results\n",
    "out_graphs_dir = \"output_005_approx\"\n",
    "\n",
    "# main function for setting up and executing experiments\n",
    "if __name__ == \"__main__\":\n",
    "  start = time.time()\n",
    "  # Set for random experiments only\n",
    "  random.seed(423652346)\n",
    "  np.random.seed(423652346)\n",
    "\n",
    "  #### exp type is:\n",
    "  #       1 for stratification experiment (distribution_exp)\n",
    "  #       2 for random sample experiment (sample_exp)\n",
    "  #       3 for smallest angle experiment (smallest_angle_exp)\n",
    "  #       4 for a uniform random sample experiment (uniform_sample_exp)\n",
    "  #       5 for all four exps\n",
    "  exp_type = 4\n",
    "  #### data is:\n",
    "  #       1 for random\n",
    "  #       2 for MPEG7 (classes from PHT paper - Turner et al.)\n",
    "  #       3 for EMNIST\n",
    "  #       4 for all three\n",
    "  #       5 for test\n",
    "  data_type = 2\n",
    "\n",
    "  exp_list = get_exp_graphs(data_type)\n",
    "\n",
    "  counter = 1\n",
    "  for e in exp_list:\n",
    "    print(\"Graph \"+str(counter)+\" of \"+str(len(exp_list)))\n",
    "    exp(e[\"G\"], e[\"output_file\"], exp_type)\n",
    "    counter+=1\n",
    "\n",
    "  print(\"Execution time: \"+str(time.time() - start)+\"(s)\")"
   ]
  },
  {
   "cell_type": "markdown",
   "metadata": {},
   "source": [
    "## Figures"
   ]
  }
 ],
 "metadata": {
  "kernelspec": {
   "display_name": "Python 2",
   "language": "python",
   "name": "python2"
  },
  "language_info": {
   "codemirror_mode": {
    "name": "ipython",
    "version": 2
   },
   "file_extension": ".py",
   "mimetype": "text/x-python",
   "name": "python",
   "nbconvert_exporter": "python",
   "pygments_lexer": "ipython2",
   "version": "2.7.18"
  }
 },
 "nbformat": 4,
 "nbformat_minor": 2
}
