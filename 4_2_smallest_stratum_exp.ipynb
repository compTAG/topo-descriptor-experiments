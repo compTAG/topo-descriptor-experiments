{
 "cells": [
  {
   "cell_type": "markdown",
   "metadata": {},
   "source": [
    "# Too Many or Too Few\n",
    "### Sampling Bounds for Topological Descriptors\n",
    "\n",
    "#### Authors\n",
    "\n",
    "#### Link to paper\n",
    "\n",
    "This [Jupyter](https://jupyter.org/) notebook is an electronic supplementry material of the article."
   ]
  },
  {
   "cell_type": "markdown",
   "metadata": {},
   "source": [
    "## Smallest Stratum Experiment\n",
    "NOTE: This experiement is Section 4.2 from the paper using 001 approx.\n",
    "\n",
    "Please run all steps in preprocess.ipynb before running this experiment"
   ]
  },
  {
   "cell_type": "code",
   "execution_count": 27,
   "metadata": {},
   "outputs": [
    {
     "name": "stdout",
     "output_type": "stream",
     "text": [
      "[{'output_file': 'TEST_RAND.txt', 'G': <networkx.classes.graph.Graph object at 0x10463ca10>}, {'output_file': 'TEST_MPEG7.txt', 'G': <networkx.classes.graph.Graph object at 0xd2fcd2e10>}, {'output_file': 'TEST_MNIST.txt', 'G': <networkx.classes.graph.Graph object at 0x10463c590>}]\n",
      "Stratum experiment\n"
     ]
    },
    {
     "ename": "IOError",
     "evalue": "[Errno 2] No such file or directory: 'output_001_approx/distribution_exp/TEST_RAND.txt'",
     "output_type": "error",
     "traceback": [
      "\u001b[0;31m---------------------------------------------------------------------------\u001b[0m",
      "\u001b[0;31mIOError\u001b[0m                                   Traceback (most recent call last)",
      "\u001b[0;32m<ipython-input-27-c311e4720669>\u001b[0m in \u001b[0;36m<module>\u001b[0;34m()\u001b[0m\n\u001b[1;32m     35\u001b[0m \u001b[0mrunner\u001b[0m \u001b[0;34m=\u001b[0m \u001b[0mexperiment\u001b[0m\u001b[0;34m.\u001b[0m\u001b[0mRunner\u001b[0m\u001b[0;34m(\u001b[0m\u001b[0;34m)\u001b[0m\u001b[0;34m\u001b[0m\u001b[0m\n\u001b[1;32m     36\u001b[0m \u001b[0;32mfor\u001b[0m \u001b[0me\u001b[0m \u001b[0;32min\u001b[0m \u001b[0mexp_list\u001b[0m\u001b[0;34m:\u001b[0m\u001b[0;34m\u001b[0m\u001b[0m\n\u001b[0;32m---> 37\u001b[0;31m     \u001b[0mrunner\u001b[0m\u001b[0;34m.\u001b[0m\u001b[0mrun\u001b[0m\u001b[0;34m(\u001b[0m\u001b[0me\u001b[0m\u001b[0;34m[\u001b[0m\u001b[0;34m\"G\"\u001b[0m\u001b[0;34m]\u001b[0m\u001b[0;34m,\u001b[0m \u001b[0me\u001b[0m\u001b[0;34m[\u001b[0m\u001b[0;34m\"output_file\"\u001b[0m\u001b[0;34m]\u001b[0m\u001b[0;34m,\u001b[0m \u001b[0mexp_type\u001b[0m\u001b[0;34m,\u001b[0m \u001b[0mout_graphs_dir\u001b[0m\u001b[0;34m)\u001b[0m\u001b[0;34m\u001b[0m\u001b[0m\n\u001b[0m\u001b[1;32m     38\u001b[0m \u001b[0;34m\u001b[0m\u001b[0m\n\u001b[1;32m     39\u001b[0m \u001b[0;32mprint\u001b[0m\u001b[0;34m(\u001b[0m\u001b[0;34m\"Execution time: \"\u001b[0m\u001b[0;34m+\u001b[0m\u001b[0mstr\u001b[0m\u001b[0;34m(\u001b[0m\u001b[0mtime\u001b[0m\u001b[0;34m.\u001b[0m\u001b[0mtime\u001b[0m\u001b[0;34m(\u001b[0m\u001b[0;34m)\u001b[0m \u001b[0;34m-\u001b[0m \u001b[0mstart\u001b[0m\u001b[0;34m)\u001b[0m\u001b[0;34m+\u001b[0m\u001b[0;34m\"(s)\"\u001b[0m\u001b[0;34m)\u001b[0m\u001b[0;34m\u001b[0m\u001b[0m\n",
      "\u001b[0;32m/Users/dave/repos/comptag/topo-descriptor-experiments/experiment.pyc\u001b[0m in \u001b[0;36mrun\u001b[0;34m(self, G, output_file, exp_type, out_graphs_dir)\u001b[0m\n\u001b[1;32m    240\u001b[0m             \u001b[0muniform_sample_experiment\u001b[0m\u001b[0;34m(\u001b[0m\u001b[0mG\u001b[0m\u001b[0;34m,\u001b[0m\u001b[0marcs\u001b[0m\u001b[0;34m,\u001b[0m\u001b[0msample_sizes\u001b[0m\u001b[0;34m,\u001b[0m\u001b[0moutput_file\u001b[0m\u001b[0;34m,\u001b[0m\u001b[0mout_graphs_dir\u001b[0m\u001b[0;34m)\u001b[0m\u001b[0;34m\u001b[0m\u001b[0m\n\u001b[1;32m    241\u001b[0m         \u001b[0;32melif\u001b[0m \u001b[0mexp_type\u001b[0m \u001b[0;34m==\u001b[0m \u001b[0mself\u001b[0m\u001b[0;34m.\u001b[0m\u001b[0mALL\u001b[0m\u001b[0;34m:\u001b[0m\u001b[0;34m\u001b[0m\u001b[0m\n\u001b[0;32m--> 242\u001b[0;31m             \u001b[0mself\u001b[0m\u001b[0;34m.\u001b[0m\u001b[0mrun\u001b[0m\u001b[0;34m(\u001b[0m\u001b[0mG\u001b[0m\u001b[0;34m,\u001b[0m \u001b[0moutput_file\u001b[0m\u001b[0;34m,\u001b[0m \u001b[0mself\u001b[0m\u001b[0;34m.\u001b[0m\u001b[0mSTRAT\u001b[0m\u001b[0;34m,\u001b[0m \u001b[0mout_graphs_dir\u001b[0m\u001b[0;34m)\u001b[0m\u001b[0;34m\u001b[0m\u001b[0m\n\u001b[0m\u001b[1;32m    243\u001b[0m             \u001b[0mself\u001b[0m\u001b[0;34m.\u001b[0m\u001b[0mrun\u001b[0m\u001b[0;34m(\u001b[0m\u001b[0mG\u001b[0m\u001b[0;34m,\u001b[0m \u001b[0moutput_file\u001b[0m\u001b[0;34m,\u001b[0m \u001b[0mself\u001b[0m\u001b[0;34m.\u001b[0m\u001b[0mRANDOM\u001b[0m\u001b[0;34m,\u001b[0m \u001b[0mout_graphs_dir\u001b[0m\u001b[0;34m)\u001b[0m\u001b[0;34m\u001b[0m\u001b[0m\n\u001b[1;32m    244\u001b[0m             \u001b[0mself\u001b[0m\u001b[0;34m.\u001b[0m\u001b[0mrun\u001b[0m\u001b[0;34m(\u001b[0m\u001b[0mG\u001b[0m\u001b[0;34m,\u001b[0m \u001b[0moutput_file\u001b[0m\u001b[0;34m,\u001b[0m \u001b[0mself\u001b[0m\u001b[0;34m.\u001b[0m\u001b[0mSMALL_ANGLE\u001b[0m\u001b[0;34m,\u001b[0m \u001b[0mout_graphs_dir\u001b[0m\u001b[0;34m)\u001b[0m\u001b[0;34m\u001b[0m\u001b[0m\n",
      "\u001b[0;32m/Users/dave/repos/comptag/topo-descriptor-experiments/experiment.pyc\u001b[0m in \u001b[0;36mrun\u001b[0;34m(self, G, output_file, exp_type, out_graphs_dir)\u001b[0m\n\u001b[1;32m    232\u001b[0m         \u001b[0mG\u001b[0m\u001b[0;34m,\u001b[0m \u001b[0marcs\u001b[0m \u001b[0;34m=\u001b[0m \u001b[0mstratify\u001b[0m\u001b[0;34m(\u001b[0m\u001b[0mG\u001b[0m\u001b[0;34m)\u001b[0m\u001b[0;34m\u001b[0m\u001b[0m\n\u001b[1;32m    233\u001b[0m         \u001b[0;32mif\u001b[0m \u001b[0mexp_type\u001b[0m \u001b[0;34m==\u001b[0m \u001b[0mself\u001b[0m\u001b[0;34m.\u001b[0m\u001b[0mSTRAT\u001b[0m\u001b[0;34m:\u001b[0m\u001b[0;34m\u001b[0m\u001b[0m\n\u001b[0;32m--> 234\u001b[0;31m             \u001b[0mstratum_experiment\u001b[0m\u001b[0;34m(\u001b[0m\u001b[0mG\u001b[0m\u001b[0;34m,\u001b[0m\u001b[0marcs\u001b[0m\u001b[0;34m,\u001b[0m\u001b[0moutput_file\u001b[0m\u001b[0;34m,\u001b[0m\u001b[0mout_graphs_dir\u001b[0m\u001b[0;34m)\u001b[0m\u001b[0;34m\u001b[0m\u001b[0m\n\u001b[0m\u001b[1;32m    235\u001b[0m         \u001b[0;32melif\u001b[0m \u001b[0mexp_type\u001b[0m \u001b[0;34m==\u001b[0m \u001b[0mself\u001b[0m\u001b[0;34m.\u001b[0m\u001b[0mRANDOM\u001b[0m\u001b[0;34m:\u001b[0m\u001b[0;34m\u001b[0m\u001b[0m\n\u001b[1;32m    236\u001b[0m             \u001b[0msample_experiment\u001b[0m\u001b[0;34m(\u001b[0m\u001b[0mG\u001b[0m\u001b[0;34m,\u001b[0m\u001b[0marcs\u001b[0m\u001b[0;34m,\u001b[0m\u001b[0msample_sizes\u001b[0m\u001b[0;34m,\u001b[0m\u001b[0moutput_file\u001b[0m\u001b[0;34m,\u001b[0m\u001b[0mout_graphs_dir\u001b[0m\u001b[0;34m)\u001b[0m\u001b[0;34m\u001b[0m\u001b[0m\n",
      "\u001b[0;32m/Users/dave/repos/comptag/topo-descriptor-experiments/experiment.pyc\u001b[0m in \u001b[0;36mstratum_experiment\u001b[0;34m(G, arcs, outFile, out_graphs_dir)\u001b[0m\n\u001b[1;32m     18\u001b[0m \u001b[0;32mdef\u001b[0m \u001b[0mstratum_experiment\u001b[0m\u001b[0;34m(\u001b[0m\u001b[0mG\u001b[0m\u001b[0;34m,\u001b[0m\u001b[0marcs\u001b[0m\u001b[0;34m,\u001b[0m\u001b[0moutFile\u001b[0m\u001b[0;34m,\u001b[0m\u001b[0mout_graphs_dir\u001b[0m\u001b[0;34m)\u001b[0m\u001b[0;34m:\u001b[0m\u001b[0;34m\u001b[0m\u001b[0m\n\u001b[1;32m     19\u001b[0m         \u001b[0;32mprint\u001b[0m\u001b[0;34m(\u001b[0m\u001b[0;34m\"Stratum experiment\"\u001b[0m\u001b[0;34m)\u001b[0m\u001b[0;34m\u001b[0m\u001b[0m\n\u001b[0;32m---> 20\u001b[0;31m         \u001b[0;32mwith\u001b[0m \u001b[0mopen\u001b[0m\u001b[0;34m(\u001b[0m\u001b[0mos\u001b[0m\u001b[0;34m.\u001b[0m\u001b[0mpath\u001b[0m\u001b[0;34m.\u001b[0m\u001b[0mjoin\u001b[0m\u001b[0;34m(\u001b[0m\u001b[0mout_graphs_dir\u001b[0m\u001b[0;34m,\u001b[0m\u001b[0;34m\"distribution_exp\"\u001b[0m\u001b[0;34m,\u001b[0m \u001b[0moutFile\u001b[0m\u001b[0;34m)\u001b[0m\u001b[0;34m,\u001b[0m \u001b[0;34m\"w+\"\u001b[0m\u001b[0;34m)\u001b[0m \u001b[0;32mas\u001b[0m \u001b[0mf\u001b[0m\u001b[0;34m:\u001b[0m\u001b[0;34m\u001b[0m\u001b[0m\n\u001b[0m\u001b[1;32m     21\u001b[0m                 \u001b[0mf\u001b[0m\u001b[0;34m.\u001b[0m\u001b[0mwrite\u001b[0m\u001b[0;34m(\u001b[0m\u001b[0;34m\"startv1,startv2,endv1,endv2,length\\n\"\u001b[0m\u001b[0;34m)\u001b[0m\u001b[0;34m\u001b[0m\u001b[0m\n\u001b[1;32m     22\u001b[0m \t\tf.write(\"\\n\".join([(str(arc[\"start\"][\"vertex1\"])+\",\"+str(arc[\"start\"][\"vertex2\"]) +\n",
      "\u001b[0;31mIOError\u001b[0m: [Errno 2] No such file or directory: 'output_001_approx/distribution_exp/TEST_RAND.txt'"
     ]
    }
   ],
   "source": [
    "from main import get_exp_graphs, exp\n",
    "import time\n",
    "import random\n",
    "import numpy as np\n",
    "import experiment\n",
    "from IPython.display import clear_output\n",
    "\n",
    "# TODO: REMOVE RELOAD AFTER DEV\n",
    "reload(experiment)\n",
    "\n",
    "# modify for that approximation type for emnist and mpeg7\n",
    "# choices include graphs_001_approx and graphs_005_approx\n",
    "graphs_dir = \"graphs_001_approx\"\n",
    "# same as above but specifies where to write results\n",
    "out_graphs_dir = \"output_001_approx\"\n",
    "\n",
    "# main function for setting up and executing experiments\n",
    "start = time.time()\n",
    "# Set for random experiments only\n",
    "random.seed(423652346)\n",
    "np.random.seed(423652346)\n",
    "\n",
    "# Set an experiment type, options are  STRAT, RANDOM, SMALL_ANGLE, UNIF\n",
    "exp_type = experiment.Runner.UNIF\n",
    "\n",
    "# TODO: remove once done developing\n",
    "exp_type = experiment.Runner.ALL\n",
    "\n",
    "\n",
    "manager = experiment.PathManager(graphs_dir)\n",
    "# exp_list = manager.random_paths() + manager.mpeg_paths() + manager.emnist_paths()\n",
    "exp_list = manager.test_paths()\n",
    "\n",
    "print(exp_list)\n",
    "runner = experiment.Runner()\n",
    "for e in exp_list:\n",
    "    runner.run(e[\"G\"], e[\"output_file\"], exp_type, out_graphs_dir)\n",
    "\n",
    "print(\"Execution time: \"+str(time.time() - start)+\"(s)\")\n",
    "\n",
    "\n",
    "# #Clear output when done running experiment\n",
    "# clear_output()"
   ]
  },
  {
   "cell_type": "markdown",
   "metadata": {},
   "source": [
    "# Prepare Experiment files for PDF representation\n",
    "Once the Experiment has finished running, the following code will combine the experiment data for statistical analysis"
   ]
  },
  {
   "cell_type": "code",
   "execution_count": null,
   "metadata": {},
   "outputs": [],
   "source": [
    "from combine_data import random, mpeg7_mnist\n",
    "\n",
    "#Combines experiment files for statistical analysis\n",
    "approx = \"001\"\n",
    "random(\"smallest_angle_exp\",approx,\"angle_stats\")\n",
    "mpeg7_mnist(\"mpeg7\",\"smallest_angle_exp\", approx, \"angle_stats\")\n",
    "mpeg7_mnist(\"mnist\",\"smallest_angle_exp\", approx, \"angle_stats\")"
   ]
  },
  {
   "cell_type": "markdown",
   "metadata": {},
   "source": [
    "# Create PDFs\n",
    "Here we use R to run the statistical analysis for the combined graphs. "
   ]
  },
  {
   "cell_type": "code",
   "execution_count": null,
   "metadata": {},
   "outputs": [],
   "source": [
    "#Load R for statistical analysis\n",
    "import rpy2.rinterface\n",
    "%load_ext rpy2.ipython"
   ]
  },
  {
   "cell_type": "code",
   "execution_count": null,
   "metadata": {},
   "outputs": [],
   "source": [
    "%%R\n",
    "# Reads data from output/combined_data/*/\n",
    "# Generates graphs in figs/smallest_angle_exp/*/\n",
    "# Graphs show:\n",
    "#   x-axis: number of vertices\n",
    "#   y-axis: the ratio number of generated stratum using smallest size/number of\n",
    "#\t\tstratum\n",
    "# Creates both pdf and png files\n",
    "\n",
    "#source(\"plotting-code/analysis_001_approx-smallest_angle_exp-smallest_angle_graphs.R\")\n",
    "#smallest_angle_exp_stat_001()\n",
    "\n",
    "#data <- get_smallest_angle_exp_files(\"001\",\"smallest_angle_exp\", \"angle_stats\")\n",
    "#perform_analysis(data)\n",
    "source(\"analysis.R\")\n",
    "approx <- \"001\"\n",
    "random <- get_exp_files(approx,\"smallest_angle_exp\", \"random\")\n",
    "mnist <- get_exp_files(approx,\"smallest_angle_exp\", \"mnist\")\n",
    "mpeg7 <- get_exp_files(approx,\"smallest_angle_exp\", \"mpeg7\")\n",
    "\n",
    "perform_smallest_angle_analysis(random,mnist,mpeg7,approx)\n"
   ]
  },
  {
   "cell_type": "markdown",
   "metadata": {},
   "source": [
    "# Figures\n",
    "Combine output PDF files for viewing"
   ]
  },
  {
   "cell_type": "code",
   "execution_count": null,
   "metadata": {},
   "outputs": [],
   "source": [
    "from combine_data import combine_pngs\n",
    "approx = '001'\n",
    "combine_pngs('smallest_angle_exp', approx)"
   ]
  },
  {
   "cell_type": "code",
   "execution_count": null,
   "metadata": {},
   "outputs": [],
   "source": [
    "%%html\n",
    "\n",
    "<div style=\"position:relative; width:100%; height:0px; padding-bottom:33.33%;\">\n",
    "    <img style=\"position:absolute; left:0; top:0; width:100%; height:100%\"\n",
    "        src=\"figs/smallest_angle_exp/smallest_angle_exp_001.png\" frameborder=\"0\" allowfullscreen>\n",
    "    </img>\n",
    "</div>"
   ]
  },
  {
   "cell_type": "markdown",
   "metadata": {},
   "source": [
    "Log-log plot of the smallest stratum size versus the number of vertices for datasets RANDPTS, EMNIST .001, and MPEG7 .001. For all three datasets, the smallest stratum size decreases proportionately with the number of vertices. In all experiments, we observe that even for graphs with 1000’s of vertices, the minimum stratum size drops below 10−5. Building a descriptor set using a uniform discretization with such small stratum size would result in hundreds-of-thousands of descriptors, which would be far too large to be of any use in practice. (Figure 2 from paper)"
   ]
  }
 ],
 "metadata": {
  "kernelspec": {
   "display_name": "Python 2",
   "language": "python",
   "name": "python2"
  },
  "language_info": {
   "codemirror_mode": {
    "name": "ipython",
    "version": 2
   },
   "file_extension": ".py",
   "mimetype": "text/x-python",
   "name": "python",
   "nbconvert_exporter": "python",
   "pygments_lexer": "ipython2",
   "version": "2.7.17"
  }
 },
 "nbformat": 4,
 "nbformat_minor": 2
}
