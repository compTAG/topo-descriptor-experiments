{
 "cells": [
  {
   "cell_type": "markdown",
   "metadata": {},
   "source": [
    "# Too Many or Too Few\n",
    "### Sampling Bounds for Topological Descriptors\n",
    "\n",
    "#### Authors\n",
    "\n",
    "#### Link to paper\n",
    "\n",
    "This [Jupyter](https://jupyter.org/) notebook is an electronic supplementry material of the article."
   ]
  },
  {
   "cell_type": "markdown",
   "metadata": {},
   "source": [
    "## Smallest Stratum Experiment\n",
    "NOTE: This experiement is Section 4.2 from the paper using 001 approx.\n",
    "\n",
    "Please run all steps in preprocess.ipynb before running this experiment"
   ]
  },
  {
   "cell_type": "code",
   "execution_count": null,
   "metadata": {},
   "outputs": [],
   "source": [
    "from main import *\n",
    "\n",
    "# modify for that approximation type for emnist and mpeg7\n",
    "# choices include graphs_001_approx and graphs_005_approx\n",
    "graphs_dir = \"graphs_001_approx\"\n",
    "# same as above but specifies where to write results\n",
    "out_graphs_dir = \"output_001_approx\"\n",
    "\n",
    "# main function for setting up and executing experiments\n",
    "if __name__ == \"__main__\":\n",
    "  start = time.time()\n",
    "  # Set for random experiments only\n",
    "  random.seed(423652346)\n",
    "  np.random.seed(423652346)\n",
    "    \n",
    "  exp_list = get_exp_graphs(4,graphs_dir,out_graphs_dir)\n",
    "\n",
    "  counter = 1\n",
    "  for e in exp_list:\n",
    "    print(\"Graph \"+str(counter)+\" of \"+str(len(exp_list)))\n",
    "    exp(e[\"G\"], e[\"output_file\"], 3, out_graphs_dir)\n",
    "    counter+=1\n",
    "\n",
    "  print(\"Execution time: \"+str(time.time() - start)+\"(s)\")"
   ]
  },
  {
   "cell_type": "markdown",
   "metadata": {},
   "source": [
    "# Prepare Experiment files for PDF representation\n",
    "Once the Experiment has finished running, the following code will combine the experiment data for statistical analysis"
   ]
  },
  {
   "cell_type": "code",
   "execution_count": null,
   "metadata": {},
   "outputs": [],
   "source": [
    "from combine_data import *\n",
    "\n",
    "#Combines experiment files for statistical analysis\n",
    "random(\"smallest_angle_exp\",\"001\")\n",
    "mpeg7_mnist(\"mpeg7\",\"smallest_angle_exp\", \"001\")\n",
    "mpeg7_mnist(\"mnist\",\"smallest_angle_exp\", \"001\")"
   ]
  },
  {
   "cell_type": "markdown",
   "metadata": {},
   "source": [
    "# Create PDFs\n",
    "Here we use R to run the statistical analysis for the combined graphs. "
   ]
  },
  {
   "cell_type": "code",
   "execution_count": null,
   "metadata": {},
   "outputs": [],
   "source": [
    "#Load R for statistical analysis\n",
    "import rpy2.rinterface\n",
    "%load_ext rpy2.ipython"
   ]
  },
  {
   "cell_type": "code",
   "execution_count": null,
   "metadata": {},
   "outputs": [],
   "source": [
    "%%R\n",
    "# Reads data from output/combined_data/*/\n",
    "# Generates graphs in figs/smallest_angle_exp/*/\n",
    "# Graphs show:\n",
    "#   x-axis: number of vertices\n",
    "#   y-axis: the ratio number of generated stratum using smallest size/number of\n",
    "#\t\tstratum\n",
    "# Creates both pdf and png files\n",
    "\n",
    "source(\"plotting-code/analysis_001_approx-smallest_angle_exp-smallest_angle_graphs.R\")\n",
    "smallest_angle_exp_stat_001()"
   ]
  },
  {
   "cell_type": "markdown",
   "metadata": {},
   "source": [
    "# Figures\n",
    "Combine output PDF files for viewing"
   ]
  },
  {
   "cell_type": "code",
   "execution_count": null,
   "metadata": {},
   "outputs": [],
   "source": [
    "from combine_data import combine_pngs\n",
    "#from IPython.display import IFrame\n",
    "\n",
    "combine_pngs('smallest_angle_exp')\n",
    "\n",
    "#IFrame(\"figs/smallest_angle_exp/smallest_angle_exp.png\", width=\"1500\", height=\"500\")"
   ]
  },
  {
   "cell_type": "markdown",
   "metadata": {},
   "source": [
    "Below we show the log-log plot of the smallest stratum size versus the number of vertices for datasets RANDPTS, EMNIST .001, and MPEG7 .001. For all three datasets, the smallest stratum size decreases proportionately with the number of vertices. In all experiments, we observe that even for graphs with 1000’s of vertices, the minimum stratum size drops below 10−5. Building a descriptor set using a uniform discretization with such small stratum size would result in hundreds-of-thousands of descriptors, which would be far too large to be of any use in practice. (Figure 2 from paper)"
   ]
  },
  {
   "cell_type": "code",
   "execution_count": null,
   "metadata": {},
   "outputs": [],
   "source": [
    "%%html\n",
    "\n",
    "<div style=\"position:relative; width:100%; height:0px; padding-bottom:33.33%;\">\n",
    "    <img style=\"position:absolute; left:0; top:0; width:100%; height:100%\"\n",
    "        src=\"figs/smallest_angle_exp/smallest_angle_exp.png\" frameborder=\"0\" allowfullscreen>\n",
    "    </img>\n",
    "</div>"
   ]
  }
 ],
 "metadata": {
  "kernelspec": {
   "display_name": "Python 2",
   "language": "python",
   "name": "python2"
  },
  "language_info": {
   "codemirror_mode": {
    "name": "ipython",
    "version": 2
   },
   "file_extension": ".py",
   "mimetype": "text/x-python",
   "name": "python",
   "nbconvert_exporter": "python",
   "pygments_lexer": "ipython2",
   "version": "2.7.17"
  }
 },
 "nbformat": 4,
 "nbformat_minor": 2
}
