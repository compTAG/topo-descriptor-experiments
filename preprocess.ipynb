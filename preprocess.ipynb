{
 "cells": [
  {
   "cell_type": "markdown",
   "metadata": {},
   "source": [
    "# Too Many or Too Few\n",
    "### Sampling Bounds for Topological Descriptors\n",
    "\n",
    "#### Authors\n",
    "\n",
    "#### Link to paper\n",
    "\n",
    "This [Jupyter](https://jupyter.org/) notebook is an electronic supplementry material of the article.\n"
   ]
  },
  {
   "cell_type": "markdown",
   "metadata": {},
   "source": [
    "## Preprocessing\n",
    "#### The following code will download the MPEG7/EMNIST data and create and store the data in the appropriate folders. \n",
    "You can find the MPEG7 data at: http://www.dabi.temple.edu/~shape/MPEG7\n",
    "    \n",
    "You can find the EMNIST data at: https://www.nist.gov/itl/products-and-services/emnist-dataset"
   ]
  },
  {
   "cell_type": "code",
   "execution_count": null,
   "metadata": {},
   "outputs": [],
   "source": [
    "from get_data import *\n",
    "\n",
    "preprocess_data(dir_list)"
   ]
  },
  {
   "cell_type": "markdown",
   "metadata": {},
   "source": [
    "#### The following code will create the graphs for RANDPTS."
   ]
  },
  {
   "cell_type": "code",
   "execution_count": null,
   "metadata": {},
   "outputs": [],
   "source": [
    "from build_graphs import *\n",
    "randpts_graphs()"
   ]
  },
  {
   "cell_type": "markdown",
   "metadata": {},
   "source": [
    "#### The following code will create the graphs for MPEG7 data. "
   ]
  },
  {
   "cell_type": "code",
   "execution_count": null,
   "metadata": {},
   "outputs": [],
   "source": [
    "from build_graphs import *\n",
    "\n",
    "#Change eps according to how close we want the approx\n",
    "eps = .001\n",
    "\n",
    "#Change to corresponding eps \n",
    "graphs_dir = \"graphs_001_approx\" \n",
    "\n",
    "mpeg7_graphs(eps, graphs_dir)"
   ]
  },
  {
   "cell_type": "markdown",
   "metadata": {},
   "source": [
    "#### The following code will create the graphs for EMNIST data. "
   ]
  },
  {
   "cell_type": "code",
   "execution_count": null,
   "metadata": {},
   "outputs": [],
   "source": [
    "from build_graphs import *\n",
    "\n",
    "#Change eps according to how close we want the approx\n",
    "eps = .001\n",
    "\n",
    "#Change to corresponding eps \n",
    "graphs_dir = \"graphs_001_approx\" \n",
    "\n",
    "mnist_graphs(eps, graphs_dir)"
   ]
  },
  {
   "cell_type": "markdown",
   "metadata": {},
   "source": [
    "## Running experiments\n",
    "Once the graphs are created, the following code we will run the experiments for RANDPTS, MPEG7, and MNIST data sets.\n",
    "\n",
    "Note that you can change graphs_dir and out_graphs_dir for which approximation you would like."
   ]
  },
  {
   "cell_type": "markdown",
   "metadata": {},
   "source": [
    "### Smallest Stratum Experiment\n",
    "NOTE: This experiement is Section 4.2 from the paper which is using 001 approx. "
   ]
  },
  {
   "cell_type": "code",
   "execution_count": null,
   "metadata": {},
   "outputs": [],
   "source": [
    "from main import *\n",
    "\n",
    "# modify for that approximation type for emnist and mpeg7\n",
    "# choices include graphs_001_approx and graphs_005_approx\n",
    "graphs_dir = \"graphs_001_approx\"\n",
    "# same as above but specifies where to write results\n",
    "out_graphs_dir = \"output_001_approx\"\n",
    "\n",
    "# main function for setting up and executing experiments\n",
    "if __name__ == \"__main__\":\n",
    "  start = time.time()\n",
    "  # Set for random experiments only\n",
    "  random.seed(423652346)\n",
    "  np.random.seed(423652346)\n",
    "    \n",
    "  exp_list = get_exp_graphs(4,graphs_dir,out_graphs_dir)\n",
    "\n",
    "  counter = 1\n",
    "  for e in exp_list:\n",
    "    print(\"Graph \"+str(counter)+\" of \"+str(len(exp_list)))\n",
    "    exp(e[\"G\"], e[\"output_file\"], 3, out_graphs_dir)\n",
    "    counter+=1\n",
    "\n",
    "  print(\"Execution time: \"+str(time.time() - start)+\"(s)\")"
   ]
  },
  {
   "cell_type": "markdown",
   "metadata": {},
   "source": [
    "# Prepare Experiment files for PDF representation\n",
    "The following code will combine the experiment data for statistical analysis"
   ]
  },
  {
   "cell_type": "code",
   "execution_count": null,
   "metadata": {},
   "outputs": [],
   "source": [
    "from combine_data import *\n",
    "\n",
    "#Combines experiment files for each approximation\n",
    "random(\"001\", \"smallest_angle_exp\")\n",
    "mpeg7_mnist(\"mpeg7\",\"smallest_angle_exp\", \"001\")\n",
    "mpeg7_mnist(\"mnist\",\"smallest_angle_exp\", \"001\")\n"
   ]
  },
  {
   "cell_type": "code",
   "execution_count": 27,
   "metadata": {},
   "outputs": [
    {
     "name": "stdout",
     "output_type": "stream",
     "text": [
      "The rpy2.ipython extension is already loaded. To reload it, use:\n",
      "  %reload_ext rpy2.ipython\n"
     ]
    },
    {
     "data": {
      "text/plain": [
       "array([1], dtype=int32)"
      ]
     },
     "execution_count": 27,
     "metadata": {},
     "output_type": "execute_result"
    }
   ],
   "source": [
    "#Load R for statistical analysis\n",
    "import rpy2.rinterface\n",
    "%load_ext rpy2.ipython"
   ]
  },
  {
   "cell_type": "markdown",
   "metadata": {},
   "source": [
    "# Code to Create PDFs"
   ]
  },
  {
   "cell_type": "code",
   "execution_count": null,
   "metadata": {},
   "outputs": [],
   "source": [
    "%%R\n",
    "# Reads data from output/combined_data/*/\n",
    "# Generates graphs in figs/smallest_angle_exp/*/\n",
    "# Graphs show:\n",
    "#   x-axis: number of vertices\n",
    "#   y-axis: the ratio number of generated stratum using smallest size/number of\n",
    "#\t\tstratum\n",
    "\n",
    "mnist_file <- read.table((\"analysis_001_approx/smallest_angle_exp/combined_data/mnist/angle_stats.txt\"), header=TRUE, sep=\",\")\n",
    "\n",
    "mpeg7_file <- read.table((\"analysis_001_approx/smallest_angle_exp/combined_data/mpeg7/angle_stats.txt\"), header=TRUE, sep=\",\")\n",
    "\n",
    "rand_three <- read.table((\"analysis_001_approx/smallest_angle_exp/combined_data/random/angle_stats_3.txt\"), header=TRUE, sep=\",\")\n",
    "rand_five <- read.table((\"analysis_001_approx/smallest_angle_exp/combined_data/random/angle_stats_5.txt\"), header=TRUE, sep=\",\")\n",
    "rand_ten <- read.table((\"analysis_001_approx/smallest_angle_exp/combined_data/random/angle_stats_10.txt\"), header=TRUE, sep=\",\")\n",
    "rand_twenty <- read.table((\"analysis_001_approx/smallest_angle_exp/combined_data/random/angle_stats_20.txt\"), header=TRUE, sep=\",\")\n",
    "rand_thirty <- read.table((\"analysis_001_approx/smallest_angle_exp/combined_data/random/angle_stats_30.txt\"), header=TRUE, sep=\",\")\n",
    "rand_forty <- read.table((\"analysis_001_approx/smallest_angle_exp/combined_data/random/angle_stats_40.txt\"), header=TRUE, sep=\",\")\n",
    "rand_fifty <- read.table((\"analysis_001_approx/smallest_angle_exp/combined_data/random/angle_stats_50.txt\"), header=TRUE, sep=\",\")\n",
    "rand_sixty <- read.table((\"analysis_001_approx/smallest_angle_exp/combined_data/random/angle_stats_60.txt\"), header=TRUE, sep=\",\")\n",
    "rand_seventy <- read.table((\"analysis_001_approx/smallest_angle_exp/combined_data/random/angle_stats_70.txt\"), header=TRUE, sep=\",\")\n",
    "rand_eighty <- read.table((\"analysis_001_approx/smallest_angle_exp/combined_data/random/angle_stats_80.txt\"), header=TRUE, sep=\",\")\n",
    "rand_ninety <- read.table((\"analysis_001_approx/smallest_angle_exp/combined_data/random/angle_stats_90.txt\"), header=TRUE, sep=\",\")\n",
    "rand_hundred <- read.table((\"analysis_001_approx/smallest_angle_exp/combined_data/random/angle_stats_100.txt\"), header=TRUE, sep=\",\")\n",
    "\n",
    "rand <- rbind(rand_three, rand_five, rand_ten, rand_twenty, rand_thirty,\n",
    "              rand_forty, rand_fifty, rand_sixty, rand_seventy, rand_eighty,\n",
    "              rand_ninety, rand_hundred)\n",
    "\n",
    "##### Code to generate graphs for just the smallest angle\n",
    "pdf(\"figs/smallest_angle_exp/mnist/mnist_001_approx_smallest_angle_exp.pdf\")\n",
    "par(mar=c(5, 5, 5, 5))\n",
    "plot(log(mnist_file$n), log(mnist_file$minSize),\n",
    "  xlab=\"Number of Vertices\",\n",
    "  ylab=\"Smallest Stratum Size\",\n",
    "  main=\"Minimum Stratum Size in MNIST Graphs\",\n",
    "  family=\"serif\",cex.lab=3, cex.main=2,\n",
    "  cex.sub=2,cex.axis=2)\n",
    "\n",
    "#after looking at data, a linear model seems appropriate\n",
    "m1 <- lm(log(mnist_file$minSize) ~ log(mnist_file$n))\n",
    "coef(m1)\n",
    "# (exp(coef(m1)[\"x\"]) - 1) * 100\n",
    "summary(m1)\n",
    "print(\"Length\")\n",
    "print(length(mnist_file$n))\n",
    "#MSE\n",
    "print(\"MSE\")\n",
    "mean(m1$residuals^2)\n",
    "# lines(sort(log(mnist_file$n)), predict(m1)[sort(mnist_file$n,index.return=TRUE)$ix],lty=1,col=\"red\",lwd=3)\n",
    "abline(m1,lty=1,col=\"red\",lwd=3)\n",
    "dev.off()\n",
    "\n",
    "##Create PNG for Jupyter Notebook\n",
    "png(\"figs/smallest_angle_exp/mnist/mnist_001_approx_smallest_angle_exp.png\")\n",
    "par(mar=c(5, 5, 5, 5))\n",
    "plot(log(mnist_file$n), log(mnist_file$minSize),\n",
    "     xlab=\"Number of Vertices\",\n",
    "     ylab=\"Smallest Stratum Size\",\n",
    "     main=\"Minimum Stratum Size in MNIST Graphs\",\n",
    "     family=\"serif\",cex.lab=3, cex.main=2,\n",
    "     cex.sub=2,cex.axis=2)\n",
    "\n",
    "#after looking at data, a linear model seems appropriate\n",
    "m1 <- lm(log(mnist_file$minSize) ~ log(mnist_file$n))\n",
    "coef(m1)\n",
    "# (exp(coef(m1)[\"x\"]) - 1) * 100\n",
    "summary(m1)\n",
    "print(\"Length\")\n",
    "print(length(mnist_file$n))\n",
    "#MSE\n",
    "print(\"MSE\")\n",
    "mean(m1$residuals^2)\n",
    "# lines(sort(log(mnist_file$n)), predict(m1)[sort(mnist_file$n,index.return=TRUE)$ix],lty=1,col=\"red\",lwd=3)\n",
    "abline(m1,lty=1,col=\"red\",lwd=3)\n",
    "dev.off()\n",
    "\n",
    "png(\"diag_smallest_mnist\")\n",
    "plot(m1)\n",
    "dev.off()\n",
    "\n",
    "pdf(\"figs/smallest_angle_exp/mpeg7/mpeg7_001_approx_smallest_angle_exp.pdf\")\n",
    "par(mar=c(5, 5, 5, 5))\n",
    "plot(log(mpeg7_file$n), log(mpeg7_file$minSize),\n",
    "  xlab=\"Number of Vertices\",\n",
    "  ylab=\"Smallest Stratum Size\",\n",
    "  \n",
    "  main=\"Minimum Stratum Size in MPEG7 Graphs\",\n",
    "  family=\"serif\",cex.lab=3, cex.main=2,\n",
    "  cex.sub=2,cex.axis=2)\n",
    "\n",
    "# due to the distribution of n_0, we will test to see if log(n) is normal\n",
    "m2 <- lm(log(mpeg7_file$minSize) ~ log(mpeg7_file$n))\n",
    "# coef(m2)\n",
    "summary(m2)\n",
    "print(\"Length\")\n",
    "print(length(mpeg7_file$n))\n",
    "print(\"MSE\")\n",
    "mean(m2$residuals^2)\n",
    "# lines(sort(log(mpeg7_file$n)), predict(m2)[sort(mpeg7_file$n,index.return=TRUE)$ix],lty=1,col=\"red\",lwd=3)\n",
    "abline(m2,lty=1,col=\"red\",lwd=3)\n",
    "dev.off()\n",
    "png(\"diag_smallest_mpeg7\")\n",
    "plot(m2)\n",
    "dev.off()\n",
    "\n",
    "png(\"figs/smallest_angle_exp/mpeg7/mpeg7_001_approx_smallest_angle_exp.png\")\n",
    "par(mar=c(5, 5, 5, 5))\n",
    "plot(log(mpeg7_file$n), log(mpeg7_file$minSize),\n",
    "     xlab=\"Number of Vertices\",\n",
    "     ylab=\"Smallest Stratum Size\",\n",
    "     \n",
    "     main=\"Minimum Stratum Size in MPEG7 Graphs\",\n",
    "     family=\"serif\",cex.lab=3, cex.main=2,\n",
    "     cex.sub=2,cex.axis=2)\n",
    "\n",
    "# due to the distribution of n_0, we will test to see if log(n) is normal\n",
    "m2 <- lm(log(mpeg7_file$minSize) ~ log(mpeg7_file$n))\n",
    "# coef(m2)\n",
    "summary(m2)\n",
    "print(\"Length\")\n",
    "print(length(mpeg7_file$n))\n",
    "print(\"MSE\")\n",
    "mean(m2$residuals^2)\n",
    "# lines(sort(log(mpeg7_file$n)), predict(m2)[sort(mpeg7_file$n,index.return=TRUE)$ix],lty=1,col=\"red\",lwd=3)\n",
    "abline(m2,lty=1,col=\"red\",lwd=3)\n",
    "dev.off()\n",
    "png(\"diag_smallest_mpeg7\")\n",
    "plot(m2)\n",
    "dev.off()\n",
    "\n",
    "\n",
    "pdf(\"figs/smallest_angle_exp/random/random_smallest_angle_exp.pdf\")\n",
    "par(mar=c(5, 5, 5, 5))\n",
    "plot(log(rand$n), log(rand$minSize),\n",
    "     xlab=\"Number of Vertices\",\n",
    "     ylab=\"Smallest Stratum Size\",\n",
    "     # main=\"Minimum Stratum Size in Random Graphs\",\n",
    "     family=\"serif\",cex.lab=3, cex.main=2,\n",
    "     cex.sub=2,cex.axis=2)\n",
    "m3 <- lm(log(rand$minSize) ~ log(rand$n))\n",
    "coef(m3)\n",
    "summary(m3)\n",
    "print(\"Length\")\n",
    "print(length(rand$n))\n",
    "print(\"MSE\")\n",
    "mean(m3$residuals^2)\n",
    "abline(m3,lty=1,col=\"red\",lwd=3)\n",
    "# lines(sort(log(rand$n)), predict(m3)[sort(rand$n,index.return=TRUE)$ix],lty=1,col=\"red\",lwd=3)\n",
    "dev.off()\n",
    "pdf(\"diag_smallest_rand\")\n",
    "plot(m3)\n",
    "dev.off()\n",
    "\n",
    "png(\"figs/smallest_angle_exp/random/random_smallest_angle_exp.png\")\n",
    "par(mar=c(5, 5, 5, 5))\n",
    "plot(log(rand$n), log(rand$minSize),\n",
    "     xlab=\"Number of Vertices\",\n",
    "     ylab=\"Smallest Stratum Size\",\n",
    "     main=\"Minimum Stratum Size in Random Graphs\",\n",
    "     family=\"serif\",cex.lab=3, cex.main=2,\n",
    "     cex.sub=2,cex.axis=2)\n",
    "m3 <- lm(log(rand$minSize) ~ log(rand$n))\n",
    "coef(m3)\n",
    "summary(m3)\n",
    "print(\"Length\")\n",
    "print(length(rand$n))\n",
    "print(\"MSE\")\n",
    "mean(m3$residuals^2)\n",
    "abline(m3,lty=1,col=\"red\",lwd=3)\n",
    "# lines(sort(log(rand$n)), predict(m3)[sort(rand$n,index.return=TRUE)$ix],lty=1,col=\"red\",lwd=3)\n",
    "dev.off()\n",
    "pdf(\"diag_smallest_rand\")\n",
    "plot(m3)\n",
    "dev.off()"
   ]
  },
  {
   "cell_type": "markdown",
   "metadata": {},
   "source": [
    "# Figures"
   ]
  },
  {
   "cell_type": "code",
   "execution_count": null,
   "metadata": {},
   "outputs": [],
   "source": [
    "import sys\n",
    "from PIL import Image\n",
    "from IPython.display import IFrame\n",
    "from IPython.core.display import display, HTML\n",
    "\n",
    "images = [Image.open(x) for x in ['figs/smallest_angle_exp/random/random_smallest_angle_exp.png', \n",
    "                                  'figs/smallest_angle_exp/mnist/mnist_001_approx_smallest_angle_exp.png', \n",
    "                                  'figs/smallest_angle_exp/mpeg7/mpeg7_001_approx_smallest_angle_exp.png']]\n",
    "widths, heights = zip(*(i.size for i in images))\n",
    "\n",
    "total_width = sum(widths)\n",
    "max_height = max(heights)\n",
    "\n",
    "new_im = Image.new('RGB', (total_width, max_height))\n",
    "\n",
    "x_offset = 0\n",
    "for im in images:\n",
    "  new_im.paste(im, (x_offset,0))\n",
    "  x_offset += im.size[0]\n",
    "\n",
    "new_im.save('figs/smallest_angle_exp/smallest_angle_exp.png')"
   ]
  },
  {
   "cell_type": "code",
   "execution_count": 11,
   "metadata": {},
   "outputs": [
    {
     "data": {
      "text/html": [
       "\n",
       "        <iframe\n",
       "            width=\"100%\"\n",
       "            height=\"100%\"\n",
       "            src=\"figs/smallest_angle_exp/smallest_angle_exp.png\"\n",
       "            frameborder=\"0\"\n",
       "            allowfullscreen\n",
       "        ></iframe>\n",
       "        "
      ],
      "text/plain": [
       "<IPython.lib.display.IFrame at 0x7fc33a217150>"
      ]
     },
     "metadata": {},
     "output_type": "display_data"
    },
    {
     "data": {
      "text/html": [
       "<style>.output_result { height:150% !important; }</style>"
      ],
      "text/plain": [
       "<IPython.core.display.HTML object>"
      ]
     },
     "metadata": {},
     "output_type": "display_data"
    }
   ],
   "source": [
    "from IPython.display import HTML, display, IFrame, HTML\n",
    "display(IFrame(\"figs/smallest_angle_exp/smallest_angle_exp.png\", width=\"100%\", height=\"100%\"))\n",
    "display(HTML(\"<style>.output_result { height:100% !important; }</style>\"))"
   ]
  },
  {
   "cell_type": "markdown",
   "metadata": {},
   "source": [
    "### Uniform Random Sample Experiment\n",
    "NOTE: This experiement is Section 4.3 from the paper"
   ]
  },
  {
   "cell_type": "code",
   "execution_count": null,
   "metadata": {},
   "outputs": [],
   "source": [
    "from main import *\n",
    "# modify for that approximation type for emnist and mpeg7\n",
    "# choices include graphs_001_approx and graphs_005_approx\n",
    "graphs_dir = \"graphs_005_approx\"\n",
    "# same as above but specifies where to write results\n",
    "out_graphs_dir = \"output_005_approx\"\n",
    "\n",
    "# main function for setting up and executing experiments\n",
    "if __name__ == \"__main__\":\n",
    "  start = time.time()\n",
    "  # Set for random experiments only\n",
    "  random.seed(423652346)\n",
    "  np.random.seed(423652346)\n",
    "\n",
    "  #### exp type is:\n",
    "  #       1 for stratification experiment (distribution_exp)\n",
    "  #       2 for random sample experiment (sample_exp)\n",
    "  #       3 for smallest angle experiment (smallest_angle_exp)\n",
    "  #       4 for a uniform random sample experiment (uniform_sample_exp)\n",
    "  #       5 for all four exps\n",
    "  exp_type = 4\n",
    "  #### data is:\n",
    "  #       1 for random\n",
    "  #       2 for MPEG7 (classes from PHT paper - Turner et al.)\n",
    "  #       3 for EMNIST\n",
    "  #       4 for all three\n",
    "  #       5 for test\n",
    "  data_type = 4\n",
    "\n",
    "  exp_list = get_exp_graphs(4,graphs_dir,out_graphs_dir)\n",
    "\n",
    "  counter = 1\n",
    "  for e in exp_list:\n",
    "    print(\"Graph \"+str(counter)+\" of \"+str(len(exp_list)))\n",
    "    exp(e[\"G\"], e[\"output_file\"], 4, out_graphs_dir)\n",
    "    counter+=1\n",
    "\n",
    "  print(\"Execution time: \"+str(time.time() - start)+\"(s)\")"
   ]
  },
  {
   "cell_type": "markdown",
   "metadata": {},
   "source": [
    "# Prepare Experiment files for PDF representation"
   ]
  },
  {
   "cell_type": "code",
   "execution_count": null,
   "metadata": {},
   "outputs": [],
   "source": [
    "from combine_data import *\n",
    "\n",
    "#Combines experiment files for each approximation \n",
    "mpeg7_mnist(\"mpeg7\",\"uniform_sample_exp\", \"001\")\n",
    "mpeg7_mnist(\"mnist\",\"uniform_sample_exp\", \"001\")\n",
    "\n",
    "random(\"005\", \"uniform_sample_exp\")\n",
    "mpeg7_mnist(\"mpeg7\", \"uniform_sample_exp\", \"005\")\n",
    "mpeg7_mnist(\"mnist\", \"uniform_sample_exp\", \"005\")"
   ]
  },
  {
   "cell_type": "markdown",
   "metadata": {},
   "source": [
    "## Figures"
   ]
  },
  {
   "cell_type": "code",
   "execution_count": null,
   "metadata": {},
   "outputs": [],
   "source": []
  }
 ],
 "metadata": {
  "kernelspec": {
   "display_name": "Python 2",
   "language": "python",
   "name": "python2"
  },
  "language_info": {
   "codemirror_mode": {
    "name": "ipython",
    "version": 2
   },
   "file_extension": ".py",
   "mimetype": "text/x-python",
   "name": "python",
   "nbconvert_exporter": "python",
   "pygments_lexer": "ipython2",
   "version": "2.7.17"
  }
 },
 "nbformat": 4,
 "nbformat_minor": 2
}
