{
 "cells": [
  {
   "cell_type": "markdown",
   "metadata": {},
   "source": [
    "# Too Many or Too Few\n",
    "### Sampling Bounds for Topological Descriptors\n",
    "\n",
    "#### Authors\n",
    "\n",
    "#### Link to paper\n",
    "\n",
    "This [Jupyter](https://jupyter.org/) notebook is an electronic supplementry material of the paper.\n"
   ]
  },
  {
   "cell_type": "markdown",
   "metadata": {},
   "source": [
    "## Preprocessing\n",
    "#### The following code will download the MPEG7/EMNIST data and create and store the data in the appropriate folders. \n",
    "You can find the MPEG7 data at: http://www.dabi.temple.edu/~shape/MPEG7\n",
    "    \n",
    "You can find the EMNIST data at: https://www.nist.gov/itl/products-and-services/emnist-dataset\n",
    "\n",
    "Note: Please run all steps before running experiments."
   ]
  },
  {
   "cell_type": "markdown",
   "metadata": {},
   "source": [
    "#### Create folders and download data."
   ]
  },
  {
   "cell_type": "code",
   "execution_count": 3,
   "metadata": {},
   "outputs": [],
   "source": [
    "from get_data import *\n",
    "from IPython.display import clear_output\n",
    "\n",
    "preprocess_data(dir_list)\n",
    "\n",
    "#Clear output when done running code\n",
    "clear_output()"
   ]
  },
  {
   "cell_type": "markdown",
   "metadata": {},
   "source": [
    "#### Create the graphs for RANDPTS."
   ]
  },
  {
   "cell_type": "code",
   "execution_count": null,
   "metadata": {},
   "outputs": [],
   "source": [
    "from build_graphs import *\n",
    "from IPython.display import clear_output\n",
    "\n",
    "randpts_graphs()\n",
    "\n",
    "#Clear output when done creating graphs\n",
    "clear_output()"
   ]
  },
  {
   "cell_type": "markdown",
   "metadata": {},
   "source": [
    "#### Create the graphs for MPEG7 data. "
   ]
  },
  {
   "cell_type": "code",
   "execution_count": null,
   "metadata": {},
   "outputs": [],
   "source": [
    "from build_graphs import *\n",
    "from IPython.display import clear_output\n",
    "\n",
    "#Change eps according to how close we want the approx\n",
    "eps = .001\n",
    "\n",
    "#Change to corresponding eps \n",
    "graphs_dir = \"graphs_001_approx\" \n",
    "\n",
    "mpeg7_graphs(eps, graphs_dir)\n",
    "\n",
    "#Clear output when done creating graphs\n",
    "clear_output()"
   ]
  },
  {
   "cell_type": "markdown",
   "metadata": {},
   "source": [
    "#### Create the graphs for EMNIST data. "
   ]
  },
  {
   "cell_type": "code",
   "execution_count": null,
   "metadata": {},
   "outputs": [],
   "source": [
    "from build_graphs import *\n",
    "from IPython.display import clear_output\n",
    "\n",
    "#Change eps according to how close we want the approx\n",
    "eps = .001\n",
    "\n",
    "#Change to corresponding eps \n",
    "graphs_dir = \"graphs_001_approx\" \n",
    "\n",
    "mnist_graphs(eps, graphs_dir)\n",
    "\n",
    "#Clear output when done creating graphs\n",
    "clear_output()"
   ]
  },
  {
   "cell_type": "markdown",
   "metadata": {},
   "source": [
    "## Running experiments\n",
    "Once all the graphs are created, please refer to 4_2_smallest_stratum_exp.ipynb and 4_3_uniform_sample_exp.ipynb to run experiments."
   ]
  }
 ],
 "metadata": {
  "kernelspec": {
   "display_name": "Python 2",
   "language": "python",
   "name": "python2"
  },
  "language_info": {
   "codemirror_mode": {
    "name": "ipython",
    "version": 2
   },
   "file_extension": ".py",
   "mimetype": "text/x-python",
   "name": "python",
   "nbconvert_exporter": "python",
   "pygments_lexer": "ipython2",
   "version": "2.7.17"
  }
 },
 "nbformat": 4,
 "nbformat_minor": 2
}
