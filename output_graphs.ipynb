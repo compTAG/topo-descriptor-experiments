{
 "cells": [
  {
   "cell_type": "markdown",
   "metadata": {},
   "source": [
    "### The following steps will create PDF files as shown in Sections 4.2 and 4.3 in the paper"
   ]
  },
  {
   "cell_type": "code",
   "execution_count": null,
   "metadata": {},
   "outputs": [],
   "source": [
    "# Run this script once to library packages\n",
    "library(grDevices)\n",
    "library(IRdisplay)\n",
    "install.packages(\"pdftools\")\n",
    "library(pdftools)"
   ]
  },
  {
   "cell_type": "markdown",
   "metadata": {},
   "source": [
    "### Run the following code to view the Smallest Angle Experiment PDFs for 001 Approximation from Section 4.2\n",
    "Note: Make sure your current working directory is set to Users/topo-descriptor-experiments"
   ]
  },
  {
   "cell_type": "code",
   "execution_count": null,
   "metadata": {},
   "outputs": [],
   "source": [
    "# Reads data from output/combined_data/*/\n",
    "mnist_file <- read.table((\"analysis_001_approx/smallest_angle_exp/combined_data/mnist/angle_stats.txt\"), header=TRUE, sep=\",\")\n",
    "\n",
    "mpeg7_file <- read.table((\"analysis_001_approx/smallest_angle_exp/combined_data/mpeg7/angle_stats.txt\"), header=TRUE, sep=\",\")\n",
    "\n",
    "rand_three <- read.table((\"analysis_001_approx/smallest_angle_exp/combined_data/random/angle_stats_3.txt\"), header=TRUE, sep=\",\")\n",
    "rand_five <- read.table((\"analysis_001_approx/smallest_angle_exp/combined_data/random/angle_stats_5.txt\"), header=TRUE, sep=\",\")\n",
    "rand_ten <- read.table((\"analysis_001_approx/smallest_angle_exp/combined_data/random/angle_stats_10.txt\"), header=TRUE, sep=\",\")\n",
    "rand_twenty <- read.table((\"analysis_001_approx/smallest_angle_exp/combined_data/random/angle_stats_20.txt\"), header=TRUE, sep=\",\")\n",
    "rand_thirty <- read.table((\"analysis_001_approx/smallest_angle_exp/combined_data/random/angle_stats_30.txt\"), header=TRUE, sep=\",\")\n",
    "rand_forty <- read.table((\"analysis_001_approx/smallest_angle_exp/combined_data/random/angle_stats_40.txt\"), header=TRUE, sep=\",\")\n",
    "rand_fifty <- read.table((\"analysis_001_approx/smallest_angle_exp/combined_data/random/angle_stats_50.txt\"), header=TRUE, sep=\",\")\n",
    "rand_sixty <- read.table((\"analysis_001_approx/smallest_angle_exp/combined_data/random/angle_stats_60.txt\"), header=TRUE, sep=\",\")\n",
    "rand_seventy <- read.table((\"analysis_001_approx/smallest_angle_exp/combined_data/random/angle_stats_70.txt\"), header=TRUE, sep=\",\")\n",
    "rand_eighty <- read.table((\"analysis_001_approx/smallest_angle_exp/combined_data/random/angle_stats_80.txt\"), header=TRUE, sep=\",\")\n",
    "rand_ninety <- read.table((\"analysis_001_approx/smallest_angle_exp/combined_data/random/angle_stats_90.txt\"), header=TRUE, sep=\",\")\n",
    "rand_hundred <- read.table((\"analysis_001_approx/smallest_angle_exp/combined_data/random/angle_stats_100.txt\"), header=TRUE, sep=\",\")\n",
    "\n",
    "rand <- rbind(rand_three, rand_five, rand_ten, rand_twenty, rand_thirty,\n",
    "  rand_forty, rand_fifty, rand_sixty, rand_seventy, rand_eighty,\n",
    "  rand_ninety, rand_hundred)"
   ]
  },
  {
   "cell_type": "code",
   "execution_count": null,
   "metadata": {},
   "outputs": [],
   "source": [
    "# Generates graphs in figs/smallest_angle_exp/*/\n",
    "# Graphs show:\n",
    "#   x-axis: number of vertices\n",
    "#   y-axis: the ratio number of generated stratum using smallest size/number of\n",
    "#\t\tstratum\n",
    "\n",
    "##### Code to generate graphs for just the smallest angle\n",
    "pdf(\"figs/smallest_angle_exp/mnist/mnist_smallest_angle_exp.pdf\")\n",
    "par(mar=c(5, 5, 5, 5))\n",
    "plot(log(mnist_file$n), log(mnist_file$minSize),\n",
    "  xlab=\"Number of Vertices\",\n",
    "  ylab=\"Smallest Stratum Size\",\n",
    "  main=\"Minimum Stratum Size in MNIST Graphs\",\n",
    "  family=\"serif\",cex.lab=3, cex.main=2,\n",
    "  cex.sub=2,cex.axis=2)\n",
    "#after looking at data, a linear model seems appropriate\n",
    "m1 <- lm(log(mnist_file$minSize) ~ log(mnist_file$n))\n",
    "coef(m1)\n",
    "# (exp(coef(m1)[\"x\"]) - 1) * 100\n",
    "summary(m1)\n",
    "print(\"Length\")\n",
    "print(length(mnist_file$n))\n",
    "#MSE\n",
    "print(\"MSE\")\n",
    "mean(m1$residuals^2)\n",
    "abline(m1,lty=1,col=\"red\",lwd=3)\n",
    "# lines(sort(log(mnist_file$n)), predict(m1)[sort(mnist_file$n,index.return=TRUE)$ix],lty=1,col=\"red\",lwd=3)\n",
    "dev.off()\n",
    "pdf(\"diag_smallest_mnist\")\n",
    "plot(m1)\n",
    "dev.off()\n",
    "\n",
    "pdf(\"figs/smallest_angle_exp/mpeg7/mpeg7_smallest_angle_exp.pdf\")\n",
    "par(mar=c(5, 5, 5, 5))\n",
    "plot(log(mpeg7_file$n), log(mpeg7_file$minSize),\n",
    "  xlab=\"Number of Vertices\",\n",
    "  ylab=\"Smallest Stratum Size\",\n",
    "  main=\"Minimum Stratum Size in MPEG7 Graphs\",\n",
    "  family=\"serif\",cex.lab=3, cex.main=2,\n",
    "  cex.sub=2,cex.axis=2)\n",
    "\n",
    "# due to the distribution of n_0, we will test to see if log(n) is normal\n",
    "m2 <- lm(log(mpeg7_file$minSize) ~ log(mpeg7_file$n))\n",
    "# coef(m2)\n",
    "summary(m2)\n",
    "print(\"Length\")\n",
    "print(length(mpeg7_file$n))\n",
    "print(\"MSE\")\n",
    "mean(m2$residuals^2)\n",
    "abline(m2,lty=1,col=\"red\",lwd=3)\n",
    "# lines(sort(log(mpeg7_file$n)), predict(m2)[sort(mpeg7_file$n,index.return=TRUE)$ix],lty=1,col=\"red\",lwd=3)\n",
    "dev.off()\n",
    "pdf(\"diag_smallest_mpeg7\")\n",
    "plot(m2)\n",
    "dev.off()\n",
    "\n",
    "pdf(\"figs/smallest_angle_exp/random/random_smallest_angle_exp.pdf\")\n",
    "par(mar=c(5, 5, 5, 5))\n",
    "plot(log(rand$n), log(rand$minSize),\n",
    "  xlab=\"Number of Vertices\",\n",
    "  ylab=\"Smallest Stratum Size\",\n",
    "  main=\"Minimum Stratum Size in Random Graphs\",\n",
    "  family=\"serif\",cex.lab=3, cex.main=2,\n",
    "  cex.sub=2,cex.axis=2)\n",
    "m3 <- lm(log(rand$minSize) ~ log(rand$n))\n",
    "coef(m3)\n",
    "summary(m3)\n",
    "print(\"Length\")\n",
    "print(length(rand$n))\n",
    "print(\"MSE\")\n",
    "mean(m3$residuals^2)\n",
    "abline(m3,lty=1,col=\"red\",lwd=3)\n",
    "# lines(sort(log(rand$n)), predict(m3)[sort(rand$n,index.return=TRUE)$ix],lty=1,col=\"red\",lwd=3)\n",
    "dev.off()\n",
    "pdf(\"diag_smallest_rand\")\n",
    "plot(m3)\n",
    "dev.off()"
   ]
  },
  {
   "cell_type": "code",
   "execution_count": null,
   "metadata": {},
   "outputs": [],
   "source": [
    "pdf_combine(c(\"figs/smallest_angle_exp/random/random_smallest_angle_exp.pdf\",\"figs/smallest_angle_exp/mnist/mnist_smallest_angle_exp.pdf\",\"figs/smallest_angle_exp/mpeg7/mpeg7_smallest_angle_exp.pdf\"), output=\"joined.pdf\")\n",
    "display_pdf(,\"joined.pdf\")"
   ]
  },
  {
   "cell_type": "code",
   "execution_count": null,
   "metadata": {},
   "outputs": [],
   "source": []
  }
 ],
 "metadata": {
  "kernelspec": {
   "display_name": "R",
   "language": "R",
   "name": "ir"
  },
  "language_info": {
   "codemirror_mode": "r",
   "file_extension": ".r",
   "mimetype": "text/x-r-source",
   "name": "R",
   "pygments_lexer": "r",
   "version": "4.0.1"
  }
 },
 "nbformat": 4,
 "nbformat_minor": 2
}
