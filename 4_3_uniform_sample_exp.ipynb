{
 "cells": [
  {
   "cell_type": "markdown",
   "metadata": {},
   "source": [
    "# Too Many or Too Few\n",
    "### Sampling Bounds for Topological Descriptors\n",
    "\n",
    "#### Authors\n",
    "\n",
    "#### Link to paper\n",
    "\n",
    "This [Jupyter](https://jupyter.org/) notebook is an electronic supplementry material of the article."
   ]
  },
  {
   "cell_type": "markdown",
   "metadata": {},
   "source": [
    "## Uniform Random Sample Experiment\n",
    "NOTE: This experiement is Section 4.3 from the paper using 001 approx.\n",
    "\n",
    "Please run all steps in preprocess.ipynb before running this experiment"
   ]
  },
  {
   "cell_type": "code",
   "execution_count": null,
   "metadata": {},
   "outputs": [],
   "source": [
    "from main import get_exp_graphs, exp\n",
    "import time\n",
    "import random\n",
    "import numpy as np\n",
    "from IPython.display import clear_output\n",
    "from IPython.display import clear_output\n",
    "\n",
    "# modify for that approximation type for emnist and mpeg7\n",
    "# choices include graphs_001_approx and graphs_005_approx\n",
    "graphs_dir = \"graphs_001_approx\"\n",
    "# same as above but specifies where to write results\n",
    "out_graphs_dir = \"output_001_approx\"\n",
    "\n",
    "# main function for setting up and executing experiments\n",
    "start = time.time()\n",
    "# Set for random experiments only\n",
    "random.seed(423652346)\n",
    "np.random.seed(423652346)\n",
    "\n",
    "#### exp type is:\n",
    "#       1 for stratification experiment (distribution_exp)\n",
    "#       2 for random sample experiment (sample_exp)\n",
    "#       3 for smallest angle experiment (smallest_angle_exp)\n",
    "#       4 for a uniform random sample experiment (uniform_sample_exp)\n",
    "#       5 for all four exps\n",
    "exp_type = 4\n",
    "\n",
    "#### data is:\n",
    "#       1 for random\n",
    "#       2 for MPEG7 (classes from PHT paper - Turner et al.)\n",
    "#       3 for EMNIST\n",
    "#       4 for all three\n",
    "#       5 for test\n",
    "data_type = 4\n",
    "\n",
    "exp_list = get_exp_graphs(data_type,graphs_dir,out_graphs_dir)\n",
    "\n",
    "# Run the experiments\n",
    "counter = 1 \n",
    "for e in exp_list:\n",
    "  print(\"Graph \"+str(counter)+\" of \"+str(len(exp_list)))\n",
    "  exp(e[\"G\"], e[\"output_file\"], exp_type, out_graphs_dir)\n",
    "  counter+=1\n",
    "\n",
    "print(\"Execution time: \"+str(time.time() - start)+\"(s)\")\n",
    "\n",
    "#Clear output when done running experiment\n",
    "clear_output()"
   ]
  },
  {
   "cell_type": "markdown",
   "metadata": {},
   "source": [
    "# Prepare Experiment files for PDF representation\n",
    "Once the Experiment has finished running, the following code will combine the experiment data for statistical analysis"
   ]
  },
  {
   "cell_type": "code",
   "execution_count": null,
   "metadata": {},
   "outputs": [],
   "source": [
    "from combine_data import random, mpeg7_mnist\n",
    "\n",
    "#Combines experiment files for statistical analysis\n",
    "approx = \"001\"\n",
    "random(\"uniform_sample_exp\",approx,\"sample_stats\")\n",
    "mpeg7_mnist(\"mpeg7\",\"uniform_sample_exp\", approx, \"sample_stats\")\n",
    "mpeg7_mnist(\"mnist\",\"uniform_sample_exp\", approx, \"sample_stats\")"
   ]
  },
  {
   "cell_type": "markdown",
   "metadata": {},
   "source": [
    "# Create PDFs\n",
    "Here we use R to run the statistical analysis for the combined graphs. "
   ]
  },
  {
   "cell_type": "code",
   "execution_count": null,
   "metadata": {},
   "outputs": [],
   "source": [
    "#Load R for statistical analysis\n",
    "import rpy2.rinterface\n",
    "%load_ext rpy2.ipython"
   ]
  },
  {
   "cell_type": "code",
   "execution_count": null,
   "metadata": {},
   "outputs": [],
   "source": [
    "%%R\n",
    "# Reads data from output/combined_data/*/\n",
    "# Generates graphs in figs/uniform_sample_exp/*/\n",
    "# Graphs show:\n",
    "#   x-axis: number of vertices\n",
    "#   y-axis: the ratio number of generated stratum using smallest size/number of\n",
    "#\t\tstratum\n",
    "# Creates both pdf and png files\n",
    "\n",
    "#source(\"plotting-code/analysis_001_approx-uniform_sample_exp-uniform_sample.R\")\n",
    "#uniform_sample_exp_stat_001()\n",
    "source(\"analysis.R\")\n",
    "#data <- get_uniform_sample_exp_files()\n",
    "#print(data$mpeg7)\n",
    "#perform_analysis(data)\n",
    "approx <- \"001\"\n",
    "random <- get_exp_files(approx,\"uniform_sample_exp\", \"random\")\n",
    "mnist <- get_exp_files(approx,\"uniform_sample_exp\", \"mnist\")\n",
    "mpeg7 <- get_exp_files(approx,\"uniform_sample_exp\", \"mpeg7\")\n",
    "\n",
    "perform_uniform_sample_analysis(random,mnist,mpeg7, approx)"
   ]
  },
  {
   "cell_type": "markdown",
   "metadata": {},
   "source": [
    "# Figures\n",
    "Combine output PDF files for viewing"
   ]
  },
  {
   "cell_type": "code",
   "execution_count": null,
   "metadata": {},
   "outputs": [],
   "source": [
    "from combine_data import combine_pngs\n",
    "approx = \"001\"\n",
    "combine_pngs('uniform_sample_exp', approx)"
   ]
  },
  {
   "cell_type": "code",
   "execution_count": null,
   "metadata": {},
   "outputs": [],
   "source": [
    "%%html\n",
    "<div style=\"position:relative; width:100%; height:0px; padding-bottom:33.33%;\">\n",
    "    <img style=\"position:absolute; left:0; top:0; width:100%; height:100%\"\n",
    "        src=\"figs/uniform_sample_exp/uniform_sample_exp_001.png\" frameborder=\"0\" allowfullscreen>\n",
    "    </img>\n",
    "</div>"
   ]
  },
  {
   "cell_type": "markdown",
   "metadata": {},
   "source": [
    "Plot of the ratio of hit stratum over the total number of stratum versus the number of vertices for RANDPTS, EMNIST .001, and MPEG7 .001. We select 16384 uniformly distributed directions Δ from S1. For each graph, we compute the Sufficient Stratification and compute the proportion of strata hit by Δ. We observe that in all cases, even for small graphs with 60 or more vertices, we miss more than 10% of the strata, implying that if we want to use a small set of descriptors, we must be willing to miss some strata. (Figure 3 from paper)"
   ]
  }
 ],
 "metadata": {
  "kernelspec": {
   "display_name": "Python 2",
   "language": "python",
   "name": "python2"
  },
  "language_info": {
   "codemirror_mode": {
    "name": "ipython",
    "version": 2
   },
   "file_extension": ".py",
   "mimetype": "text/x-python",
   "name": "python",
   "nbconvert_exporter": "python",
   "pygments_lexer": "ipython2",
   "version": "2.7.17"
  }
 },
 "nbformat": 4,
 "nbformat_minor": 2
}
