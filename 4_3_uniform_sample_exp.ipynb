{
 "cells": [
  {
   "cell_type": "markdown",
   "metadata": {},
   "source": [
    "# Too Many or Too Few\n",
    "### Sampling Bounds for Topological Descriptors\n",
    "\n",
    "#### Authors\n",
    "\n",
    "#### Link to paper\n",
    "\n",
    "This [Jupyter](https://jupyter.org/) notebook is an electronic supplementry material of the article."
   ]
  },
  {
   "cell_type": "markdown",
   "metadata": {},
   "source": [
    "## Uniform Random Sample Experiment\n",
    "NOTE: This experiement is Section 4.3 from the paper using 001 approx.\n",
    "\n",
    "Please run all steps in preprocess.ipynb before running this experiment"
   ]
  },
  {
   "cell_type": "code",
   "execution_count": null,
   "metadata": {},
   "outputs": [],
   "source": [
    "from main import *\n",
    "# modify for that approximation type for emnist and mpeg7\n",
    "# choices include graphs_001_approx and graphs_005_approx\n",
    "graphs_dir = \"graphs_001_approx\"\n",
    "# same as above but specifies where to write results\n",
    "out_graphs_dir = \"output_001_approx\"\n",
    "\n",
    "# main function for setting up and executing experiments\n",
    "if __name__ == \"__main__\":\n",
    "  start = time.time()\n",
    "  # Set for random experiments only\n",
    "  random.seed(423652346)\n",
    "  np.random.seed(423652346)\n",
    "    \n",
    "  exp_list = get_exp_graphs(4,graphs_dir,out_graphs_dir)\n",
    "\n",
    "  counter = 1\n",
    "  for e in exp_list:\n",
    "    print(\"Graph \"+str(counter)+\" of \"+str(len(exp_list)))\n",
    "    exp(e[\"G\"], e[\"output_file\"], 4, out_graphs_dir)\n",
    "    counter+=1\n",
    "\n",
    "  print(\"Execution time: \"+str(time.time() - start)+\"(s)\")"
   ]
  },
  {
   "cell_type": "markdown",
   "metadata": {},
   "source": [
    "# Prepare Experiment files for PDF representation\n",
    "Once the Experiment has finished running, the following code will combine the experiment data for statistical analysis"
   ]
  },
  {
   "cell_type": "code",
   "execution_count": null,
   "metadata": {},
   "outputs": [],
   "source": [
    "from combine_data import *\n",
    "\n",
    "#Combines experiment files for statistical analysis\n",
    "random(\"001\", \"uniform_sample_exp\")\n",
    "mpeg7_mnist(\"mpeg7\",\"uniform_sample_exp\", \"001\")\n",
    "mpeg7_mnist(\"mnist\",\"uniform_sample_exp\", \"001\")"
   ]
  }
 ],
 "metadata": {
  "kernelspec": {
   "display_name": "Python 2",
   "language": "python",
   "name": "python2"
  },
  "language_info": {
   "codemirror_mode": {
    "name": "ipython",
    "version": 2
   },
   "file_extension": ".py",
   "mimetype": "text/x-python",
   "name": "python",
   "nbconvert_exporter": "python",
   "pygments_lexer": "ipython2",
   "version": "2.7.17"
  }
 },
 "nbformat": 4,
 "nbformat_minor": 2
}
