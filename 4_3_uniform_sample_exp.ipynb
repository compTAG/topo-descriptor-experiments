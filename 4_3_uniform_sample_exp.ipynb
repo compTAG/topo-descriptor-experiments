{
 "cells": [
  {
   "cell_type": "markdown",
   "metadata": {},
   "source": [
    "# Too Many or Too Few\n",
    "### Sampling Bounds for Topological Descriptors\n",
    "\n",
    "#### Authors\n",
    "\n",
    "#### Link to paper\n",
    "\n",
    "This [Jupyter](https://jupyter.org/) notebook is an electronic supplementry material of the article."
   ]
  },
  {
   "cell_type": "markdown",
   "metadata": {},
   "source": [
    "## Uniform Random Sample Experiment\n",
    "NOTE: This experiement is Section 4.3 from the paper using 001 approx.\n",
    "\n",
    "Please run all steps in preprocess.ipynb before running this experiment"
   ]
  },
  {
   "cell_type": "code",
   "execution_count": null,
   "metadata": {},
   "outputs": [],
   "source": [
    "from main import *\n",
    "from IPython.display import clear_output\n",
    "\n",
    "# modify for that approximation type for emnist and mpeg7\n",
    "# choices include graphs_001_approx and graphs_005_approx\n",
    "graphs_dir = \"graphs_001_approx\"\n",
    "# same as above but specifies where to write results\n",
    "out_graphs_dir = \"output_001_approx\"\n",
    "\n",
    "# main function for setting up and executing experiments\n",
    "if __name__ == \"__main__\":\n",
    "  start = time.time()\n",
    "  # Set for random experiments only\n",
    "  random.seed(423652346)\n",
    "  np.random.seed(423652346)\n",
    "    \n",
    "  exp_list = get_exp_graphs(4,graphs_dir,out_graphs_dir)\n",
    "\n",
    "  counter = 1\n",
    "  for e in exp_list:\n",
    "    print(\"Graph \"+str(counter)+\" of \"+str(len(exp_list)))\n",
    "    exp(e[\"G\"], e[\"output_file\"], 4, out_graphs_dir)\n",
    "    counter+=1\n",
    "\n",
    "  print(\"Execution time: \"+str(time.time() - start)+\"(s)\")\n",
    "\n",
    "#Clear output when done running experiment\n",
    "clear_output()"
   ]
  },
  {
   "cell_type": "markdown",
   "metadata": {},
   "source": [
    "# Prepare Experiment files for PDF representation\n",
    "Once the Experiment has finished running, the following code will combine the experiment data for statistical analysis"
   ]
  },
  {
   "cell_type": "code",
   "execution_count": null,
   "metadata": {},
   "outputs": [],
   "source": [
    "from uniform_sample_combine_data import *\n",
    "\n",
    "#Combines experiment files for statistical analysis\n",
    "random(\"uniform_sample_exp\",\"001\")\n",
    "mpeg7_mnist(\"mpeg7\",\"uniform_sample_exp\", \"001\")\n",
    "mpeg7_mnist(\"mnist\",\"uniform_sample_exp\", \"001\")"
   ]
  },
  {
   "cell_type": "markdown",
   "metadata": {},
   "source": [
    "# Create PDFs\n",
    "Here we use R to run the statistical analysis for the combined graphs. "
   ]
  },
  {
   "cell_type": "code",
   "execution_count": null,
   "metadata": {},
   "outputs": [],
   "source": [
    "#Load R for statistical analysis\n",
    "import rpy2.rinterface\n",
    "%load_ext rpy2.ipython"
   ]
  },
  {
   "cell_type": "code",
   "execution_count": null,
   "metadata": {},
   "outputs": [],
   "source": [
    "%%R\n",
    "# Reads data from output/combined_data/*/\n",
    "# Generates graphs in figs/smallest_angle_exp/*/\n",
    "# Graphs show:\n",
    "#   x-axis: number of vertices\n",
    "#   y-axis: the ratio number of generated stratum using smallest size/number of\n",
    "#\t\tstratum\n",
    "# Creates both pdf and png files\n",
    "\n",
    "source(\"plotting-code/analysis_001_approx-uniform_sample_exp-uniform_sample.R\")\n",
    "uniform_sample_exp_stat_001()"
   ]
  },
  {
   "cell_type": "markdown",
   "metadata": {},
   "source": [
    "# Figures\n",
    "Combine output PDF files for viewing"
   ]
  },
  {
   "cell_type": "code",
   "execution_count": null,
   "metadata": {},
   "outputs": [],
   "source": [
    "from uniform_sample_combine_data import combine_pngs\n",
    "\n",
    "combine_pngs('uniform_sample_exp')"
   ]
  },
  {
   "cell_type": "code",
   "execution_count": null,
   "metadata": {},
   "outputs": [],
   "source": [
    "%%html\n",
    "# View plots\n",
    "<div style=\"position:relative; width:100%; height:0px; padding-bottom:33.33%;\">\n",
    "    <img style=\"position:absolute; left:0; top:0; width:100%; height:100%\"\n",
    "        src=\"figs/uniform_sample_exp/uniform_sample_exp_001.png\" frameborder=\"0\" allowfullscreen>\n",
    "    </img>\n",
    "</div>"
   ]
  },
  {
   "cell_type": "markdown",
   "metadata": {},
   "source": [
    "Plot of the ratio of hit stratum over the total number of stratum versus the number of vertices for RANDPTS, EMNIST .001, and MPEG7 .001. We select 16384 uniformly distributed directions Δ from S1. For each graph, we compute the Sufficient Stratification and compute the proportion of strata hit by Δ. We observe that in all cases, even for small graphs with 60 or more vertices, we miss more than 10% of the strata, implying that if we want to use a small set of descriptors, we must be willing to miss some strata. (Figure 3 from paper)"
   ]
  },
  {
   "cell_type": "code",
   "execution_count": null,
   "metadata": {},
   "outputs": [],
   "source": []
  }
 ],
 "metadata": {
  "kernelspec": {
   "display_name": "Python 2",
   "language": "python",
   "name": "python2"
  },
  "language_info": {
   "codemirror_mode": {
    "name": "ipython",
    "version": 2
   },
   "file_extension": ".py",
   "mimetype": "text/x-python",
   "name": "python",
   "nbconvert_exporter": "python",
   "pygments_lexer": "ipython2",
   "version": "2.7.17"
  }
 },
 "nbformat": 4,
 "nbformat_minor": 2
}
